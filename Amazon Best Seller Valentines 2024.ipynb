{
 "cells": [
  {
   "cell_type": "markdown",
   "metadata": {},
   "source": [
    "# Importing Modules"
   ]
  },
  {
   "cell_type": "code",
   "execution_count": 1,
   "metadata": {},
   "outputs": [],
   "source": [
    "import pandas as pd\n",
    "import numpy as np\n",
    "import matplotlib.pyplot as plt #for data visualization\n",
    "import seaborn as sb #an improvement of matplotlib\n",
    "import seaborn as sns #an improvement of matplotlib\n",
    "\n",
    "\n",
    "# to suppress warnings\n",
    "import warnings\n",
    "warnings.filterwarnings('ignore')"
   ]
  },
  {
   "cell_type": "markdown",
   "metadata": {},
   "source": [
    "# Reading the file"
   ]
  },
  {
   "cell_type": "code",
   "execution_count": 2,
   "metadata": {},
   "outputs": [
    {
     "data": {
      "text/html": [
       "<div>\n",
       "<style scoped>\n",
       "    .dataframe tbody tr th:only-of-type {\n",
       "        vertical-align: middle;\n",
       "    }\n",
       "\n",
       "    .dataframe tbody tr th {\n",
       "        vertical-align: top;\n",
       "    }\n",
       "\n",
       "    .dataframe thead th {\n",
       "        text-align: right;\n",
       "    }\n",
       "</style>\n",
       "<table border=\"1\" class=\"dataframe\">\n",
       "  <thead>\n",
       "    <tr style=\"text-align: right;\">\n",
       "      <th></th>\n",
       "      <th>title</th>\n",
       "      <th>brand</th>\n",
       "      <th>description</th>\n",
       "      <th>starsBreakdown/3star</th>\n",
       "      <th>starsBreakdown/4star</th>\n",
       "      <th>starsBreakdown/5star</th>\n",
       "      <th>reviewsCount</th>\n",
       "      <th>price</th>\n",
       "      <th>price/currency</th>\n",
       "      <th>price/value</th>\n",
       "      <th>categoryPageData/productPosition</th>\n",
       "    </tr>\n",
       "  </thead>\n",
       "  <tbody>\n",
       "    <tr>\n",
       "      <th>0</th>\n",
       "      <td>Ferrero Rocher, 24 Count, Premium Milk Chocola...</td>\n",
       "      <td>Ferrero Rocher</td>\n",
       "      <td>Ferrero Rocher's milk chocolate gift box offer...</td>\n",
       "      <td>0.02</td>\n",
       "      <td>0.07</td>\n",
       "      <td>0.89</td>\n",
       "      <td>20021.0</td>\n",
       "      <td>NaN</td>\n",
       "      <td>$</td>\n",
       "      <td>11.39</td>\n",
       "      <td>7</td>\n",
       "    </tr>\n",
       "    <tr>\n",
       "      <th>1</th>\n",
       "      <td>HERSHEY'S NUGGETS Assorted Chocolate, Valentin...</td>\n",
       "      <td>HERSHEY'S</td>\n",
       "      <td>This HERSHEY'S NUGGETS candy assortment is fil...</td>\n",
       "      <td>0.03</td>\n",
       "      <td>0.10</td>\n",
       "      <td>0.84</td>\n",
       "      <td>18891.0</td>\n",
       "      <td>NaN</td>\n",
       "      <td>$</td>\n",
       "      <td>10.69</td>\n",
       "      <td>16</td>\n",
       "    </tr>\n",
       "    <tr>\n",
       "      <th>2</th>\n",
       "      <td>LEGO Icons Flower Bouquet Building Decoration ...</td>\n",
       "      <td>LEGO</td>\n",
       "      <td>Giving and receiving beautiful flowers is such...</td>\n",
       "      <td>0.01</td>\n",
       "      <td>0.05</td>\n",
       "      <td>0.92</td>\n",
       "      <td>19395.0</td>\n",
       "      <td>NaN</td>\n",
       "      <td>$</td>\n",
       "      <td>47.99</td>\n",
       "      <td>2</td>\n",
       "    </tr>\n",
       "    <tr>\n",
       "      <th>3</th>\n",
       "      <td>BodyRefresh Shower Steamers Aromatherapy - 8 P...</td>\n",
       "      <td>BodyRefresh</td>\n",
       "      <td>NaN</td>\n",
       "      <td>0.07</td>\n",
       "      <td>0.15</td>\n",
       "      <td>0.67</td>\n",
       "      <td>593.0</td>\n",
       "      <td>NaN</td>\n",
       "      <td>$</td>\n",
       "      <td>9.99</td>\n",
       "      <td>10</td>\n",
       "    </tr>\n",
       "    <tr>\n",
       "      <th>4</th>\n",
       "      <td>JoJowell Shower Steamers Aromatherapy - 21Pcs ...</td>\n",
       "      <td>JoJowell</td>\n",
       "      <td>NaN</td>\n",
       "      <td>0.10</td>\n",
       "      <td>0.15</td>\n",
       "      <td>0.63</td>\n",
       "      <td>816.0</td>\n",
       "      <td>NaN</td>\n",
       "      <td>$</td>\n",
       "      <td>21.99</td>\n",
       "      <td>11</td>\n",
       "    </tr>\n",
       "  </tbody>\n",
       "</table>\n",
       "</div>"
      ],
      "text/plain": [
       "                                               title           brand  \\\n",
       "0  Ferrero Rocher, 24 Count, Premium Milk Chocola...  Ferrero Rocher   \n",
       "1  HERSHEY'S NUGGETS Assorted Chocolate, Valentin...       HERSHEY'S   \n",
       "2  LEGO Icons Flower Bouquet Building Decoration ...            LEGO   \n",
       "3  BodyRefresh Shower Steamers Aromatherapy - 8 P...     BodyRefresh   \n",
       "4  JoJowell Shower Steamers Aromatherapy - 21Pcs ...        JoJowell   \n",
       "\n",
       "                                         description  starsBreakdown/3star  \\\n",
       "0  Ferrero Rocher's milk chocolate gift box offer...                  0.02   \n",
       "1  This HERSHEY'S NUGGETS candy assortment is fil...                  0.03   \n",
       "2  Giving and receiving beautiful flowers is such...                  0.01   \n",
       "3                                                NaN                  0.07   \n",
       "4                                                NaN                  0.10   \n",
       "\n",
       "   starsBreakdown/4star  starsBreakdown/5star  reviewsCount  price  \\\n",
       "0                  0.07                  0.89       20021.0    NaN   \n",
       "1                  0.10                  0.84       18891.0    NaN   \n",
       "2                  0.05                  0.92       19395.0    NaN   \n",
       "3                  0.15                  0.67         593.0    NaN   \n",
       "4                  0.15                  0.63         816.0    NaN   \n",
       "\n",
       "  price/currency  price/value  categoryPageData/productPosition  \n",
       "0              $        11.39                                 7  \n",
       "1              $        10.69                                16  \n",
       "2              $        47.99                                 2  \n",
       "3              $         9.99                                10  \n",
       "4              $        21.99                                11  "
      ]
     },
     "execution_count": 2,
     "metadata": {},
     "output_type": "execute_result"
    }
   ],
   "source": [
    "df = pd.read_csv ('amazon_2024_valentines_best_sellers.csv')\n",
    "df.head()"
   ]
  },
  {
   "cell_type": "markdown",
   "metadata": {},
   "source": [
    "# Understanding the Dataset"
   ]
  },
  {
   "cell_type": "code",
   "execution_count": 3,
   "metadata": {},
   "outputs": [
    {
     "name": "stdout",
     "output_type": "stream",
     "text": [
      "<class 'pandas.core.frame.DataFrame'>\n",
      "RangeIndex: 218 entries, 0 to 217\n",
      "Data columns (total 11 columns):\n",
      " #   Column                            Non-Null Count  Dtype  \n",
      "---  ------                            --------------  -----  \n",
      " 0   title                             218 non-null    object \n",
      " 1   brand                             217 non-null    object \n",
      " 2   description                       46 non-null     object \n",
      " 3   starsBreakdown/3star              218 non-null    float64\n",
      " 4   starsBreakdown/4star              218 non-null    float64\n",
      " 5   starsBreakdown/5star              218 non-null    float64\n",
      " 6   reviewsCount                      216 non-null    float64\n",
      " 7   price                             0 non-null      float64\n",
      " 8   price/currency                    169 non-null    object \n",
      " 9   price/value                       169 non-null    float64\n",
      " 10  categoryPageData/productPosition  218 non-null    int64  \n",
      "dtypes: float64(6), int64(1), object(4)\n",
      "memory usage: 18.9+ KB\n"
     ]
    }
   ],
   "source": [
    "df.info()"
   ]
  },
  {
   "cell_type": "code",
   "execution_count": 4,
   "metadata": {},
   "outputs": [
    {
     "data": {
      "text/plain": [
       "(218, 11)"
      ]
     },
     "execution_count": 4,
     "metadata": {},
     "output_type": "execute_result"
    }
   ],
   "source": [
    "# see the number of rows and columns\n",
    "df.shape"
   ]
  },
  {
   "cell_type": "code",
   "execution_count": 5,
   "metadata": {},
   "outputs": [
    {
     "data": {
      "text/plain": [
       "Index(['title', 'brand', 'description', 'starsBreakdown/3star',\n",
       "       'starsBreakdown/4star', 'starsBreakdown/5star', 'reviewsCount', 'price',\n",
       "       'price/currency', 'price/value', 'categoryPageData/productPosition'],\n",
       "      dtype='object')"
      ]
     },
     "execution_count": 5,
     "metadata": {},
     "output_type": "execute_result"
    }
   ],
   "source": [
    "# see the name of the columns\n",
    "df.columns"
   ]
  },
  {
   "cell_type": "code",
   "execution_count": 6,
   "metadata": {},
   "outputs": [
    {
     "data": {
      "text/html": [
       "<div>\n",
       "<style scoped>\n",
       "    .dataframe tbody tr th:only-of-type {\n",
       "        vertical-align: middle;\n",
       "    }\n",
       "\n",
       "    .dataframe tbody tr th {\n",
       "        vertical-align: top;\n",
       "    }\n",
       "\n",
       "    .dataframe thead th {\n",
       "        text-align: right;\n",
       "    }\n",
       "</style>\n",
       "<table border=\"1\" class=\"dataframe\">\n",
       "  <thead>\n",
       "    <tr style=\"text-align: right;\">\n",
       "      <th></th>\n",
       "      <th>starsBreakdown/3star</th>\n",
       "      <th>starsBreakdown/4star</th>\n",
       "      <th>starsBreakdown/5star</th>\n",
       "      <th>reviewsCount</th>\n",
       "      <th>price</th>\n",
       "      <th>price/value</th>\n",
       "      <th>categoryPageData/productPosition</th>\n",
       "    </tr>\n",
       "  </thead>\n",
       "  <tbody>\n",
       "    <tr>\n",
       "      <th>count</th>\n",
       "      <td>218.000000</td>\n",
       "      <td>218.000000</td>\n",
       "      <td>218.000000</td>\n",
       "      <td>216.000000</td>\n",
       "      <td>0.0</td>\n",
       "      <td>169.000000</td>\n",
       "      <td>218.000000</td>\n",
       "    </tr>\n",
       "    <tr>\n",
       "      <th>mean</th>\n",
       "      <td>0.049220</td>\n",
       "      <td>0.105275</td>\n",
       "      <td>0.767936</td>\n",
       "      <td>2863.759259</td>\n",
       "      <td>NaN</td>\n",
       "      <td>18.046805</td>\n",
       "      <td>127.123853</td>\n",
       "    </tr>\n",
       "    <tr>\n",
       "      <th>std</th>\n",
       "      <td>0.041966</td>\n",
       "      <td>0.066756</td>\n",
       "      <td>0.151997</td>\n",
       "      <td>7104.953282</td>\n",
       "      <td>NaN</td>\n",
       "      <td>11.696470</td>\n",
       "      <td>91.812865</td>\n",
       "    </tr>\n",
       "    <tr>\n",
       "      <th>min</th>\n",
       "      <td>0.000000</td>\n",
       "      <td>0.000000</td>\n",
       "      <td>0.000000</td>\n",
       "      <td>1.000000</td>\n",
       "      <td>NaN</td>\n",
       "      <td>1.990000</td>\n",
       "      <td>1.000000</td>\n",
       "    </tr>\n",
       "    <tr>\n",
       "      <th>25%</th>\n",
       "      <td>0.030000</td>\n",
       "      <td>0.072500</td>\n",
       "      <td>0.720000</td>\n",
       "      <td>54.750000</td>\n",
       "      <td>NaN</td>\n",
       "      <td>9.990000</td>\n",
       "      <td>52.250000</td>\n",
       "    </tr>\n",
       "    <tr>\n",
       "      <th>50%</th>\n",
       "      <td>0.040000</td>\n",
       "      <td>0.100000</td>\n",
       "      <td>0.790000</td>\n",
       "      <td>387.500000</td>\n",
       "      <td>NaN</td>\n",
       "      <td>15.950000</td>\n",
       "      <td>103.500000</td>\n",
       "    </tr>\n",
       "    <tr>\n",
       "      <th>75%</th>\n",
       "      <td>0.070000</td>\n",
       "      <td>0.130000</td>\n",
       "      <td>0.850000</td>\n",
       "      <td>1581.500000</td>\n",
       "      <td>NaN</td>\n",
       "      <td>21.990000</td>\n",
       "      <td>193.750000</td>\n",
       "    </tr>\n",
       "    <tr>\n",
       "      <th>max</th>\n",
       "      <td>0.380000</td>\n",
       "      <td>0.490000</td>\n",
       "      <td>1.000000</td>\n",
       "      <td>54895.000000</td>\n",
       "      <td>NaN</td>\n",
       "      <td>79.950000</td>\n",
       "      <td>310.000000</td>\n",
       "    </tr>\n",
       "  </tbody>\n",
       "</table>\n",
       "</div>"
      ],
      "text/plain": [
       "       starsBreakdown/3star  starsBreakdown/4star  starsBreakdown/5star  \\\n",
       "count            218.000000            218.000000            218.000000   \n",
       "mean               0.049220              0.105275              0.767936   \n",
       "std                0.041966              0.066756              0.151997   \n",
       "min                0.000000              0.000000              0.000000   \n",
       "25%                0.030000              0.072500              0.720000   \n",
       "50%                0.040000              0.100000              0.790000   \n",
       "75%                0.070000              0.130000              0.850000   \n",
       "max                0.380000              0.490000              1.000000   \n",
       "\n",
       "       reviewsCount  price  price/value  categoryPageData/productPosition  \n",
       "count    216.000000    0.0   169.000000                        218.000000  \n",
       "mean    2863.759259    NaN    18.046805                        127.123853  \n",
       "std     7104.953282    NaN    11.696470                         91.812865  \n",
       "min        1.000000    NaN     1.990000                          1.000000  \n",
       "25%       54.750000    NaN     9.990000                         52.250000  \n",
       "50%      387.500000    NaN    15.950000                        103.500000  \n",
       "75%     1581.500000    NaN    21.990000                        193.750000  \n",
       "max    54895.000000    NaN    79.950000                        310.000000  "
      ]
     },
     "execution_count": 6,
     "metadata": {},
     "output_type": "execute_result"
    }
   ],
   "source": [
    "# see a brief statistical decription on each column\n",
    "df.describe()"
   ]
  },
  {
   "cell_type": "code",
   "execution_count": 7,
   "metadata": {},
   "outputs": [
    {
     "data": {
      "text/plain": [
       "0"
      ]
     },
     "execution_count": 7,
     "metadata": {},
     "output_type": "execute_result"
    }
   ],
   "source": [
    "# Duplicate Rows\n",
    "\n",
    "df.duplicated().sum()"
   ]
  },
  {
   "cell_type": "markdown",
   "metadata": {},
   "source": [
    "# Data Cleaning"
   ]
  },
  {
   "cell_type": "code",
   "execution_count": 8,
   "metadata": {},
   "outputs": [
    {
     "data": {
      "text/plain": [
       "3049.91"
      ]
     },
     "execution_count": 8,
     "metadata": {},
     "output_type": "execute_result"
    }
   ],
   "source": [
    "# First lets find out total revenue\n",
    "\n",
    "Total_revenue = df['price/value'].sum()\n",
    "\n",
    "Total_revenue"
   ]
  },
  {
   "cell_type": "code",
   "execution_count": 9,
   "metadata": {},
   "outputs": [
    {
     "name": "stdout",
     "output_type": "stream",
     "text": [
      "title                                 0\n",
      "brand                                 1\n",
      "description                         172\n",
      "starsBreakdown/3star                  0\n",
      "starsBreakdown/4star                  0\n",
      "starsBreakdown/5star                  0\n",
      "reviewsCount                          2\n",
      "price                               218\n",
      "price/currency                       49\n",
      "price/value                          49\n",
      "categoryPageData/productPosition      0\n",
      "dtype: int64\n"
     ]
    }
   ],
   "source": [
    "print(df.isnull().sum())"
   ]
  },
  {
   "cell_type": "code",
   "execution_count": 10,
   "metadata": {},
   "outputs": [
    {
     "data": {
      "text/html": [
       "<div>\n",
       "<style scoped>\n",
       "    .dataframe tbody tr th:only-of-type {\n",
       "        vertical-align: middle;\n",
       "    }\n",
       "\n",
       "    .dataframe tbody tr th {\n",
       "        vertical-align: top;\n",
       "    }\n",
       "\n",
       "    .dataframe thead th {\n",
       "        text-align: right;\n",
       "    }\n",
       "</style>\n",
       "<table border=\"1\" class=\"dataframe\">\n",
       "  <thead>\n",
       "    <tr style=\"text-align: right;\">\n",
       "      <th></th>\n",
       "      <th>title</th>\n",
       "      <th>brand</th>\n",
       "      <th>starsBreakdown/3star</th>\n",
       "      <th>starsBreakdown/4star</th>\n",
       "      <th>starsBreakdown/5star</th>\n",
       "      <th>reviewsCount</th>\n",
       "      <th>price/value</th>\n",
       "      <th>categoryPageData/productPosition</th>\n",
       "    </tr>\n",
       "  </thead>\n",
       "  <tbody>\n",
       "    <tr>\n",
       "      <th>0</th>\n",
       "      <td>Ferrero Rocher, 24 Count, Premium Milk Chocola...</td>\n",
       "      <td>Ferrero Rocher</td>\n",
       "      <td>0.02</td>\n",
       "      <td>0.07</td>\n",
       "      <td>0.89</td>\n",
       "      <td>20021.0</td>\n",
       "      <td>11.39</td>\n",
       "      <td>7</td>\n",
       "    </tr>\n",
       "    <tr>\n",
       "      <th>1</th>\n",
       "      <td>HERSHEY'S NUGGETS Assorted Chocolate, Valentin...</td>\n",
       "      <td>HERSHEY'S</td>\n",
       "      <td>0.03</td>\n",
       "      <td>0.10</td>\n",
       "      <td>0.84</td>\n",
       "      <td>18891.0</td>\n",
       "      <td>10.69</td>\n",
       "      <td>16</td>\n",
       "    </tr>\n",
       "  </tbody>\n",
       "</table>\n",
       "</div>"
      ],
      "text/plain": [
       "                                               title           brand  \\\n",
       "0  Ferrero Rocher, 24 Count, Premium Milk Chocola...  Ferrero Rocher   \n",
       "1  HERSHEY'S NUGGETS Assorted Chocolate, Valentin...       HERSHEY'S   \n",
       "\n",
       "   starsBreakdown/3star  starsBreakdown/4star  starsBreakdown/5star  \\\n",
       "0                  0.02                  0.07                  0.89   \n",
       "1                  0.03                  0.10                  0.84   \n",
       "\n",
       "   reviewsCount  price/value  categoryPageData/productPosition  \n",
       "0       20021.0        11.39                                 7  \n",
       "1       18891.0        10.69                                16  "
      ]
     },
     "execution_count": 10,
     "metadata": {},
     "output_type": "execute_result"
    }
   ],
   "source": [
    "# Dropping unnecessary columns\n",
    "\n",
    "df = df.drop(['description', 'price', 'price/currency' ], axis=1)\n",
    "\n",
    "df.head(2)"
   ]
  },
  {
   "cell_type": "code",
   "execution_count": 11,
   "metadata": {},
   "outputs": [],
   "source": [
    "# replace each column of missing values with its respective mean\n",
    "\n",
    "mean_review = df['reviewsCount'].mean()\n",
    "mean_currency = df['price/value'].mean()\n",
    "\n",
    "df['price/value'].fillna(mean_currency, inplace=True)"
   ]
  },
  {
   "cell_type": "code",
   "execution_count": 12,
   "metadata": {},
   "outputs": [
    {
     "data": {
      "text/plain": [
       "title                               0\n",
       "brand                               1\n",
       "starsBreakdown/3star                0\n",
       "starsBreakdown/4star                0\n",
       "starsBreakdown/5star                0\n",
       "reviewsCount                        2\n",
       "price/value                         0\n",
       "categoryPageData/productPosition    0\n",
       "dtype: int64"
      ]
     },
     "execution_count": 12,
     "metadata": {},
     "output_type": "execute_result"
    }
   ],
   "source": [
    "df.isnull().sum()"
   ]
  },
  {
   "cell_type": "code",
   "execution_count": 13,
   "metadata": {},
   "outputs": [
    {
     "name": "stdout",
     "output_type": "stream",
     "text": [
      "<class 'pandas.core.frame.DataFrame'>\n",
      "RangeIndex: 218 entries, 0 to 217\n",
      "Data columns (total 8 columns):\n",
      " #   Column                            Non-Null Count  Dtype  \n",
      "---  ------                            --------------  -----  \n",
      " 0   title                             218 non-null    object \n",
      " 1   brand                             217 non-null    object \n",
      " 2   starsBreakdown/3star              218 non-null    float64\n",
      " 3   starsBreakdown/4star              218 non-null    float64\n",
      " 4   starsBreakdown/5star              218 non-null    float64\n",
      " 5   reviewsCount                      216 non-null    float64\n",
      " 6   price/value                       218 non-null    float64\n",
      " 7   categoryPageData/productPosition  218 non-null    int64  \n",
      "dtypes: float64(5), int64(1), object(2)\n",
      "memory usage: 13.8+ KB\n"
     ]
    }
   ],
   "source": [
    "df.info()"
   ]
  },
  {
   "cell_type": "code",
   "execution_count": 14,
   "metadata": {},
   "outputs": [],
   "source": [
    "#drop brand row with missing data\n",
    "df.dropna(subset=['brand'],axis=0, inplace=True)"
   ]
  },
  {
   "cell_type": "code",
   "execution_count": 15,
   "metadata": {},
   "outputs": [
    {
     "data": {
      "text/plain": [
       "title                               0\n",
       "brand                               0\n",
       "starsBreakdown/3star                0\n",
       "starsBreakdown/4star                0\n",
       "starsBreakdown/5star                0\n",
       "reviewsCount                        2\n",
       "price/value                         0\n",
       "categoryPageData/productPosition    0\n",
       "dtype: int64"
      ]
     },
     "execution_count": 15,
     "metadata": {},
     "output_type": "execute_result"
    }
   ],
   "source": [
    "df.isnull().sum()"
   ]
  },
  {
   "cell_type": "markdown",
   "metadata": {},
   "source": [
    "# Explaratory Data Analysis"
   ]
  },
  {
   "cell_type": "code",
   "execution_count": 16,
   "metadata": {},
   "outputs": [
    {
     "data": {
      "text/plain": [
       "title                                object\n",
       "brand                                object\n",
       "starsBreakdown/3star                float64\n",
       "starsBreakdown/4star                float64\n",
       "starsBreakdown/5star                float64\n",
       "reviewsCount                        float64\n",
       "price/value                         float64\n",
       "categoryPageData/productPosition      int64\n",
       "dtype: object"
      ]
     },
     "execution_count": 16,
     "metadata": {},
     "output_type": "execute_result"
    }
   ],
   "source": [
    "df.dtypes"
   ]
  },
  {
   "cell_type": "code",
   "execution_count": 17,
   "metadata": {},
   "outputs": [
    {
     "data": {
      "text/html": [
       "<div>\n",
       "<style scoped>\n",
       "    .dataframe tbody tr th:only-of-type {\n",
       "        vertical-align: middle;\n",
       "    }\n",
       "\n",
       "    .dataframe tbody tr th {\n",
       "        vertical-align: top;\n",
       "    }\n",
       "\n",
       "    .dataframe thead th {\n",
       "        text-align: right;\n",
       "    }\n",
       "</style>\n",
       "<table border=\"1\" class=\"dataframe\">\n",
       "  <thead>\n",
       "    <tr style=\"text-align: right;\">\n",
       "      <th></th>\n",
       "      <th>title</th>\n",
       "      <th>brand</th>\n",
       "      <th>starsBreakdown/3star</th>\n",
       "      <th>starsBreakdown/4star</th>\n",
       "      <th>starsBreakdown/5star</th>\n",
       "      <th>reviewsCount</th>\n",
       "      <th>price/value</th>\n",
       "      <th>categoryPageData/productPosition</th>\n",
       "    </tr>\n",
       "  </thead>\n",
       "  <tbody>\n",
       "    <tr>\n",
       "      <th>0</th>\n",
       "      <td>Ferrero Rocher, 24 Count, Premium Milk Chocola...</td>\n",
       "      <td>Ferrero Rocher</td>\n",
       "      <td>0.02</td>\n",
       "      <td>0.07</td>\n",
       "      <td>0.89</td>\n",
       "      <td>20021.0</td>\n",
       "      <td>11.39</td>\n",
       "      <td>7</td>\n",
       "    </tr>\n",
       "    <tr>\n",
       "      <th>1</th>\n",
       "      <td>HERSHEY'S NUGGETS Assorted Chocolate, Valentin...</td>\n",
       "      <td>HERSHEY'S</td>\n",
       "      <td>0.03</td>\n",
       "      <td>0.10</td>\n",
       "      <td>0.84</td>\n",
       "      <td>18891.0</td>\n",
       "      <td>10.69</td>\n",
       "      <td>16</td>\n",
       "    </tr>\n",
       "    <tr>\n",
       "      <th>2</th>\n",
       "      <td>LEGO Icons Flower Bouquet Building Decoration ...</td>\n",
       "      <td>LEGO</td>\n",
       "      <td>0.01</td>\n",
       "      <td>0.05</td>\n",
       "      <td>0.92</td>\n",
       "      <td>19395.0</td>\n",
       "      <td>47.99</td>\n",
       "      <td>2</td>\n",
       "    </tr>\n",
       "    <tr>\n",
       "      <th>3</th>\n",
       "      <td>BodyRefresh Shower Steamers Aromatherapy - 8 P...</td>\n",
       "      <td>BodyRefresh</td>\n",
       "      <td>0.07</td>\n",
       "      <td>0.15</td>\n",
       "      <td>0.67</td>\n",
       "      <td>593.0</td>\n",
       "      <td>9.99</td>\n",
       "      <td>10</td>\n",
       "    </tr>\n",
       "    <tr>\n",
       "      <th>4</th>\n",
       "      <td>JoJowell Shower Steamers Aromatherapy - 21Pcs ...</td>\n",
       "      <td>JoJowell</td>\n",
       "      <td>0.10</td>\n",
       "      <td>0.15</td>\n",
       "      <td>0.63</td>\n",
       "      <td>816.0</td>\n",
       "      <td>21.99</td>\n",
       "      <td>11</td>\n",
       "    </tr>\n",
       "  </tbody>\n",
       "</table>\n",
       "</div>"
      ],
      "text/plain": [
       "                                               title           brand  \\\n",
       "0  Ferrero Rocher, 24 Count, Premium Milk Chocola...  Ferrero Rocher   \n",
       "1  HERSHEY'S NUGGETS Assorted Chocolate, Valentin...       HERSHEY'S   \n",
       "2  LEGO Icons Flower Bouquet Building Decoration ...            LEGO   \n",
       "3  BodyRefresh Shower Steamers Aromatherapy - 8 P...     BodyRefresh   \n",
       "4  JoJowell Shower Steamers Aromatherapy - 21Pcs ...        JoJowell   \n",
       "\n",
       "   starsBreakdown/3star  starsBreakdown/4star  starsBreakdown/5star  \\\n",
       "0                  0.02                  0.07                  0.89   \n",
       "1                  0.03                  0.10                  0.84   \n",
       "2                  0.01                  0.05                  0.92   \n",
       "3                  0.07                  0.15                  0.67   \n",
       "4                  0.10                  0.15                  0.63   \n",
       "\n",
       "   reviewsCount  price/value  categoryPageData/productPosition  \n",
       "0       20021.0        11.39                                 7  \n",
       "1       18891.0        10.69                                16  \n",
       "2       19395.0        47.99                                 2  \n",
       "3         593.0         9.99                                10  \n",
       "4         816.0        21.99                                11  "
      ]
     },
     "execution_count": 17,
     "metadata": {},
     "output_type": "execute_result"
    }
   ],
   "source": [
    "df.head()"
   ]
  },
  {
   "cell_type": "code",
   "execution_count": 18,
   "metadata": {},
   "outputs": [],
   "source": [
    "# Renaming Column headers\n",
    "df = df.rename(columns={\"title\": \"Product Name\", \"brand\": \"Brand Name\", \"reviewsCount\": \"Total Reviews\", \"starsBreakdown/3star\":\"3 Stars Breakdown\", \n",
    "                       \"starsBreakdown/4star\": \"4 Stars Breakdown\", \"starsBreakdown/5star\": \"5 Stars Breakdown\", \"price/value\": \"Price\",\n",
    "                       \"categoryPageData/productPosition\": \"Product Position\"})"
   ]
  },
  {
   "cell_type": "code",
   "execution_count": 19,
   "metadata": {},
   "outputs": [
    {
     "data": {
      "text/plain": [
       "Index(['Product Name', 'Brand Name', '3 Stars Breakdown', '4 Stars Breakdown',\n",
       "       '5 Stars Breakdown', 'Total Reviews', 'Price', 'Product Position'],\n",
       "      dtype='object')"
      ]
     },
     "execution_count": 19,
     "metadata": {},
     "output_type": "execute_result"
    }
   ],
   "source": [
    "df.columns"
   ]
  },
  {
   "cell_type": "markdown",
   "metadata": {},
   "source": [
    "# Questions to be answered\n",
    "\n",
    "## 1. Which products and brands have the best & worst reviews?"
   ]
  },
  {
   "cell_type": "code",
   "execution_count": 20,
   "metadata": {},
   "outputs": [
    {
     "name": "stdout",
     "output_type": "stream",
     "text": [
      "Products and Brands with the Best and Worst Reviews:\n",
      "\n",
      "Best Reviews Products: BAIMEI Jade Roller & Gua Sha, Face Roller Redness Reducing Skin Care Tools, Massager for Face, Eyes, Neck, Relieve Wrinkles, Self Care Gift for Men Women, Valentine's Day Gifts - Rose Quartz\n",
      "\n",
      "Worst Reviews Products: 32pcs Valentines Day Gifts for Kids - Valentines with Mini Pop Fidget Toys Bulk - Valentine Exchange for Girls Boys Classroom\n",
      "\n",
      "Best Reviews Brand: BAIMEI\n",
      "\n",
      "Worst Reviews Brand: Jetrvat\n"
     ]
    }
   ],
   "source": [
    "best_reviews_product = df.loc[df['Total Reviews'].idxmax(), 'Product Name']\n",
    "worst_reviews_product = df.loc[df['Total Reviews'].idxmin(), 'Product Name']\n",
    "\n",
    "best_reviews_brand = df.loc[df['Total Reviews'].idxmax(), 'Brand Name']\n",
    "worst_reviews_brand = df.loc[df['Total Reviews'].idxmin(), 'Brand Name']\n",
    "\n",
    "# Display Results\n",
    "print(\"Products and Brands with the Best and Worst Reviews:\")\n",
    "print(\"\\nBest Reviews Products:\", best_reviews_product)\n",
    "print(\"\\nWorst Reviews Products:\", worst_reviews_product)\n",
    "print(\"\\nBest Reviews Brand:\", best_reviews_brand)\n",
    "print(\"\\nWorst Reviews Brand:\", worst_reviews_brand)"
   ]
  },
  {
   "cell_type": "markdown",
   "metadata": {},
   "source": [
    "## 2. What brands are on the best seller list most often?"
   ]
  },
  {
   "cell_type": "code",
   "execution_count": 21,
   "metadata": {},
   "outputs": [
    {
     "name": "stdout",
     "output_type": "stream",
     "text": [
      "\n",
      "Brands on the Best Seller List Most Often: Ferrero Rocher\n"
     ]
    }
   ],
   "source": [
    "# Brands on the best seller list most often\n",
    "best_seller_brands=df['Brand Name'].value_counts().idxmax()\n",
    "\n",
    "# Display Result\n",
    "print(\"\\nBrands on the Best Seller List Most Often:\", best_seller_brands)"
   ]
  },
  {
   "cell_type": "markdown",
   "metadata": {},
   "source": [
    "## 3. Are there any trends between prices and ratings?"
   ]
  },
  {
   "cell_type": "code",
   "execution_count": 22,
   "metadata": {},
   "outputs": [
    {
     "name": "stdout",
     "output_type": "stream",
     "text": [
      "\n",
      "Average Rating by Price:\n",
      "Price\n",
      "(1.912, 17.582]     0.752500\n",
      "(17.582, 33.174]    0.781887\n",
      "(33.174, 48.766]    0.780000\n",
      "(48.766, 64.358]    0.836667\n",
      "(64.358, 79.95]     0.790000\n",
      "Name: 5 Stars Breakdown, dtype: float64\n"
     ]
    }
   ],
   "source": [
    "# Trends between prices and ratings\n",
    "Avg_rating_by_price = df.groupby(pd.cut(df['Price'], bins=5))['5 Stars Breakdown'].mean()\n",
    "\n",
    "# Display Result\n",
    "print(\"\\nAverage Rating by Price:\")\n",
    "print(Avg_rating_by_price)"
   ]
  },
  {
   "cell_type": "code",
   "execution_count": 23,
   "metadata": {},
   "outputs": [
    {
     "data": {
      "image/png": "[encoded data removed]",
      "text/plain": [
       "<Figure size 1000x600 with 1 Axes>"
      ]
     },
     "metadata": {},
     "output_type": "display_data"
    }
   ],
   "source": [
    "# Visualizations\n",
    "# Plotting average rating by price\n",
    "plt.figure(figsize=(10, 6))\n",
    "Avg_rating_by_price.plot(kind='bar', color='skyblue')\n",
    "plt.title('Average Rating by Price')\n",
    "plt.xlabel('Price Range')\n",
    "plt.ylabel('Average 5-Star Rating')\n",
    "plt.xticks(rotation=45)\n",
    "plt.grid(axis='y', linestyle='--', alpha=0.7)\n",
    "plt.tight_layout()\n",
    "plt.show()"
   ]
  },
  {
   "cell_type": "markdown",
   "metadata": {},
   "source": [
    "## 4. Which products are above average for 5-star ratings?"
   ]
  },
  {
   "cell_type": "code",
   "execution_count": 24,
   "metadata": {},
   "outputs": [
    {
     "name": "stdout",
     "output_type": "stream",
     "text": [
      "\n",
      "Products Above Average for 5-Star Ratings:\n",
      "0      Ferrero Rocher, 24 Count, Premium Milk Chocola...\n",
      "1      HERSHEY'S NUGGETS Assorted Chocolate, Valentin...\n",
      "2      LEGO Icons Flower Bouquet Building Decoration ...\n",
      "6      LEGO Cherry Blossoms Gift for Valentine's Day,...\n",
      "9      JOYIN 24 PCS Valentine's Day Heart Stress Ball...\n",
      "                             ...                        \n",
      "209    LWBDD 13\" Valentines Day Gift Bags 2 Pcs with ...\n",
      "210    J'FLORU Valentine’s Day Gifts,6 Pack Valentine...\n",
      "212    Cheerin Valentines Day Card with Envelope - Fu...\n",
      "214    THEMEROL Natural Gemstone Bracelet Gifts for D...\n",
      "217    Valentine's Day Gifts For Her - Rose in Glass ...\n",
      "Name: Product Name, Length: 138, dtype: object\n"
     ]
    }
   ],
   "source": [
    "# Products above average for 5-star ratings\n",
    "above_avg_5star = df[df['5 Stars Breakdown']>df['5 Stars Breakdown'].mean()]['Product Name']\n",
    "\n",
    "# Display Result\n",
    "print(\"\\nProducts Above Average for 5-Star Ratings:\")\n",
    "print(above_avg_5star)"
   ]
  },
  {
   "cell_type": "markdown",
   "metadata": {},
   "source": [
    "# 5. Reviewing top 10 brands basis total reviews "
   ]
  },
  {
   "cell_type": "code",
   "execution_count": 33,
   "metadata": {},
   "outputs": [
    {
     "name": "stdout",
     "output_type": "stream",
     "text": [
      "Brand Name\n",
      "BAIMEI                  54895.000000\n",
      "Burt's Bees             32945.000000\n",
      "Bazooka Candy Brands    27866.000000\n",
      "HOME SMILE              24615.000000\n",
      "grace & stella          21545.000000\n",
      "Skittles                19772.000000\n",
      "Nut Cravings            19537.000000\n",
      "Body Restore            16281.000000\n",
      "Ferrero Rocher          15326.833333\n",
      "LParkin                 11974.000000\n",
      "Name: Total Reviews, dtype: float64\n",
      "Brand Name\n",
      "GLAMOUR BOUTIQUE      79.950\n",
      "Lebana                65.990\n",
      "SKPAND                62.660\n",
      "DENIMOMO              49.990\n",
      "Roseshy               49.490\n",
      "Godiva Chocolatier    49.125\n",
      "NEWNOVE               43.990\n",
      "Dream of Flowers      42.990\n",
      "YWHL                  37.990\n",
      "TranquilBliss         29.990\n",
      "Name: Price, dtype: float64\n"
     ]
    }
   ],
   "source": [
    "# Step 1: Group by 'Brand'\n",
    "grouped_df = df.groupby('Brand Name')\n",
    "avg_prices = grouped_df['Price'].mean()\n",
    "avg_scores = grouped_df['Total Reviews'].mean()\n",
    "\n",
    "# Step 3: Sort the results based on average review score in descending order\n",
    "sorted_brands = avg_scores.sort_values(ascending=False)\n",
    "sorted_brands_perprice = avg_prices.sort_values(ascending=False)\n",
    "\n",
    "# Step 4: Select the top brands\n",
    "top_brands = sorted_brands.head(10)\n",
    "top_brands_perprice = sorted_brands_perprice.head(10)\n",
    "\n",
    "# Display the top brands and their average review scores\n",
    "print(top_brands)\n",
    "print(top_brands_perprice)"
   ]
  },
  {
   "cell_type": "code",
   "execution_count": 28,
   "metadata": {},
   "outputs": [
    {
     "data": {
      "image/png": "[encoded data removed]",
      "text/plain": [
       "<Figure size 640x480 with 1 Axes>"
      ]
     },
     "metadata": {},
     "output_type": "display_data"
    }
   ],
   "source": [
    "# Plotting the bar chart for top 10 brands\n",
    "top_brands.plot(kind='bar', color='blue')\n",
    "\n",
    "# Adding labels and title\n",
    "plt.xlabel('Brand Names')\n",
    "plt.ylabel('Avg Review Score')\n",
    "plt.title('Top 10 Brands Based on Reviews')\n",
    "\n",
    "# Display the plot\n",
    "plt.show()"
   ]
  },
  {
   "cell_type": "code",
   "execution_count": 29,
   "metadata": {},
   "outputs": [
    {
     "data": {
      "text/plain": [
       "Index(['Product Name', 'Brand Name', '3 Stars Breakdown', '4 Stars Breakdown',\n",
       "       '5 Stars Breakdown', 'Total Reviews', 'Price', 'Product Position'],\n",
       "      dtype='object')"
      ]
     },
     "execution_count": 29,
     "metadata": {},
     "output_type": "execute_result"
    }
   ],
   "source": [
    "df.columns"
   ]
  },
  {
   "cell_type": "code",
   "execution_count": 34,
   "metadata": {},
   "outputs": [
    {
     "data": {
      "image/png": "[encoded data removed]",
      "text/plain": [
       "<Figure size 640x480 with 1 Axes>"
      ]
     },
     "metadata": {},
     "output_type": "display_data"
    }
   ],
   "source": [
    "# Plotting the bar chart for top brands based on price\n",
    "top_brands_perprice.plot(kind='bar', color='green')\n",
    "\n",
    "# Adding labels and title\n",
    "plt.xlabel('Brand Names')\n",
    "plt.ylabel('Avg Prices')\n",
    "plt.title('Top 10 Brands Based on Prices')\n",
    "\n",
    "# Display the plot\n",
    "plt.show()"
   ]
  },
  {
   "cell_type": "code",
   "execution_count": null,
   "metadata": {},
   "outputs": [],
   "source": []
  }
 ],
 "metadata": {
  "kernelspec": {
   "display_name": "Python 3 (ipykernel)",
   "language": "python",
   "name": "python3"
  },
  "language_info": {
   "codemirror_mode": {
    "name": "ipython",
    "version": 3
   },
   "file_extension": ".py",
   "mimetype": "text/x-python",
   "name": "python",
   "nbconvert_exporter": "python",
   "pygments_lexer": "ipython3",
   "version": "3.11.7"
  }
 },
 "nbformat": 4,
 "nbformat_minor": 4
}
